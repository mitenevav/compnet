{
 "cells": [
  {
   "cell_type": "code",
   "execution_count": 1,
   "id": "5edfd2c8",
   "metadata": {},
   "outputs": [],
   "source": [
    "from main import *"
   ]
  },
  {
   "cell_type": "code",
   "execution_count": 2,
   "id": "3fab1067",
   "metadata": {},
   "outputs": [
    {
     "name": "stdout",
     "output_type": "stream",
     "text": [
      "General2 got: {0: 't0', 1: 't1', 3: 'f3_2'}General0 got: {1: 't1', 2: 't2', 3: 'f3_0'}\n",
      "\n",
      "General1 got: {0: 't0', 2: 't2', 3: 'f3_1'}\n",
      "General3 got: {0: 't0', 1: 't1', 2: 't2'}\n",
      "General1 got: {0: {1: 't1', 2: 't2', 3: 'f3_0'}, 2: {0: 't0', 1: 't1', 3: 'f3_2'}, 3: {0: 'f3_10', 1: 'f3_11', 2: 'f3_12'}}\n",
      "General0 got: {1: {0: 't0', 2: 't2', 3: 'f3_1'}, 2: {0: 't0', 1: 't1', 3: 'f3_2'}, 3: {0: 'f3_00', 1: 'f3_01', 2: 'f3_02'}}\n",
      "General2 got: {0: {1: 't1', 2: 't2', 3: 'f3_0'}, 1: {0: 't0', 2: 't2', 3: 'f3_1'}, 3: {0: 'f3_20', 1: 'f3_21', 2: 'f3_22'}}\n",
      "General3 got: {0: {1: 't1', 2: 't2', 3: 'f3_0'}, 1: {0: 't0', 2: 't2', 3: 'f3_1'}, 2: {0: 't0', 1: 't1', 3: 'f3_2'}}\n",
      "General3 result: {0: 't0', 1: 't1', 2: 't2', 3: None}\n",
      "General0 result: {0: 't0', 1: 't1', 2: 't2', 3: None}\n",
      "General1 result: {0: 't0', 1: 't1', 2: 't2', 3: None}\n",
      "General2 result: {0: 't0', 1: 't1', 2: 't2', 3: None}\n"
     ]
    }
   ],
   "source": [
    "n_generals = 4\n",
    "barrier = Barrier(n_generals)\n",
    "generals = [General(i, barrier) for i in range(n_generals - 1)]\n",
    "generals.append(General(n_generals - 1, barrier, True))\n",
    "for g1 in generals:\n",
    "    for g2 in generals:\n",
    "        if g1 != g2:\n",
    "            g1.connect(g2)\n",
    "threads = [Thread(target=g.run) for g in generals]\n",
    "for t in threads:\n",
    "    t.start()\n",
    "for t in threads:\n",
    "    t.join()\n"
   ]
  },
  {
   "cell_type": "code",
   "execution_count": null,
   "id": "250848c7",
   "metadata": {},
   "outputs": [],
   "source": []
  }
 ],
 "metadata": {
  "kernelspec": {
   "display_name": "Python 3",
   "language": "python",
   "name": "python3"
  },
  "language_info": {
   "codemirror_mode": {
    "name": "ipython",
    "version": 3
   },
   "file_extension": ".py",
   "mimetype": "text/x-python",
   "name": "python",
   "nbconvert_exporter": "python",
   "pygments_lexer": "ipython3",
   "version": "3.8.8"
  }
 },
 "nbformat": 4,
 "nbformat_minor": 5
}
